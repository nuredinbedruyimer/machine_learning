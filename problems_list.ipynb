{
  "nbformat": 4,
  "nbformat_minor": 0,
  "metadata": {
    "colab": {
      "provenance": [],
      "authorship_tag": "ABX9TyNG6rLT9IGsDiEu5iaxv63u",
      "include_colab_link": true
    },
    "kernelspec": {
      "name": "python3",
      "display_name": "Python 3"
    },
    "language_info": {
      "name": "python"
    }
  },
  "cells": [
    {
      "cell_type": "markdown",
      "metadata": {
        "id": "view-in-github",
        "colab_type": "text"
      },
      "source": [
        "<a href=\"https://colab.research.google.com/github/nuredinbedruyimer/machine_learning/blob/main/problems_list.ipynb\" target=\"_parent\"><img src=\"https://colab.research.google.com/assets/colab-badge.svg\" alt=\"Open In Colab\"/></a>"
      ]
    },
    {
      "cell_type": "code",
      "execution_count": 2,
      "metadata": {
        "id": "BC2fByaOdLzq"
      },
      "outputs": [],
      "source": [
        "import numpy as np"
      ]
    },
    {
      "cell_type": "code",
      "source": [
        "#  Generate Integer Between low and high(exclusive) by default it generate single number but we can give the shape correctly\n",
        "\n",
        "np.random.randint(1, 101, size=(3, 4))"
      ],
      "metadata": {
        "colab": {
          "base_uri": "https://localhost:8080/"
        },
        "id": "4ribiLXkke57",
        "outputId": "3b21218c-5e60-4556-9192-13bd52cb4837"
      },
      "execution_count": 7,
      "outputs": [
        {
          "output_type": "execute_result",
          "data": {
            "text/plain": [
              "array([[64, 23, 15, 22],\n",
              "       [90, 16, 23, 32],\n",
              "       [ 6, 73, 44, 21]])"
            ]
          },
          "metadata": {},
          "execution_count": 7
        }
      ]
    },
    {
      "cell_type": "code",
      "source": [
        "#  Generate Floating Number generate between the range with  0 - 1 and we ca pass the shape as parameter\n",
        "np.random.rand(2, 3, 2)"
      ],
      "metadata": {
        "colab": {
          "base_uri": "https://localhost:8080/"
        },
        "id": "Iy1ytMyEmBro",
        "outputId": "723d101a-33cd-4f51-ef16-b684b93b64c8"
      },
      "execution_count": 11,
      "outputs": [
        {
          "output_type": "execute_result",
          "data": {
            "text/plain": [
              "array([[[0.2732837 , 0.51536529],\n",
              "        [0.27791105, 0.82530109],\n",
              "        [0.12870131, 0.96374401]],\n",
              "\n",
              "       [[0.03816658, 0.99335976],\n",
              "        [0.12441806, 0.54036972],\n",
              "        [0.27231433, 0.9520467 ]]])"
            ]
          },
          "metadata": {},
          "execution_count": 11
        }
      ]
    },
    {
      "cell_type": "code",
      "source": [
        "# random.choice used to select element from the arrayb we passed as an argument and it must one deminsional\n",
        "\n",
        "\n",
        "arr =  np.random.randint(10, 200, 20)\n",
        "np.random.choice(arr)"
      ],
      "metadata": {
        "colab": {
          "base_uri": "https://localhost:8080/"
        },
        "id": "ODWmdDQ6mg8V",
        "outputId": "bdb9324c-e3f7-4799-c60d-956e191d55de"
      },
      "execution_count": 16,
      "outputs": [
        {
          "output_type": "execute_result",
          "data": {
            "text/plain": [
              "25"
            ]
          },
          "metadata": {},
          "execution_count": 16
        }
      ]
    },
    {
      "cell_type": "code",
      "source": [
        "#  Shuffle shuff;e the values in places and o return value\n",
        "arr = [1, 2, 3, 4, 5]\n",
        "arr_new = np.random.permutation(arr)\n",
        "np.random.shuffle(arr)\n",
        "print(arr_new)\n",
        "print(arr)\n",
        "#  if just one integer for permutation it generate permutation array of length 0 - n-1 or length of n\n",
        "permutation_arr = np.random.permutation(8)\n",
        "permutation_arr\n"
      ],
      "metadata": {
        "colab": {
          "base_uri": "https://localhost:8080/"
        },
        "id": "hEAl3WSxnVOO",
        "outputId": "3536f5b8-775d-4958-fd7d-9f76eada1812"
      },
      "execution_count": 22,
      "outputs": [
        {
          "output_type": "stream",
          "name": "stdout",
          "text": [
            "[1 2 4 5 3]\n",
            "[2, 1, 5, 3, 4]\n"
          ]
        },
        {
          "output_type": "execute_result",
          "data": {
            "text/plain": [
              "array([3, 1, 4, 2, 5, 7, 0, 6])"
            ]
          },
          "metadata": {},
          "execution_count": 22
        }
      ]
    },
    {
      "cell_type": "code",
      "source": [
        "#  Generate random number from uniformly distribute distribution\n",
        "\n",
        "arr = np.random.normal(loc=0, scale= 2, size = 9)\n",
        "print(arr)"
      ],
      "metadata": {
        "colab": {
          "base_uri": "https://localhost:8080/"
        },
        "id": "QugPsoVHq7y2",
        "outputId": "04a68500-cf77-4cc6-8c5c-a51ad3237bc4"
      },
      "execution_count": 28,
      "outputs": [
        {
          "output_type": "stream",
          "name": "stdout",
          "text": [
            "[ 0.83706876  2.62674918  3.11295687 -4.05860144  0.6226431   1.68387508\n",
            "  2.7177928  -1.34782867 -1.16427265]\n"
          ]
        }
      ]
    },
    {
      "cell_type": "code",
      "source": [
        "x = np.random.uniform(low=0, high=10, size=5)  # 5 samples from a uniform distribution\n",
        "print(x)"
      ],
      "metadata": {
        "colab": {
          "base_uri": "https://localhost:8080/"
        },
        "id": "7zO8lhMcrta0",
        "outputId": "a64dc6f9-cca1-4476-8aa3-2f78d632699a"
      },
      "execution_count": 30,
      "outputs": [
        {
          "output_type": "stream",
          "name": "stdout",
          "text": [
            "[1.16147642 3.89834916 2.6234408  9.45437497 1.81571153]\n"
          ]
        }
      ]
    },
    {
      "cell_type": "code",
      "source": [
        "np.random.seed(11)\n",
        "np.random.randint(1, 20)"
      ],
      "metadata": {
        "colab": {
          "base_uri": "https://localhost:8080/"
        },
        "id": "ynpKbbpPwfrY",
        "outputId": "710bd5a1-b0a5-40ae-fbd2-18294271425e"
      },
      "execution_count": 36,
      "outputs": [
        {
          "output_type": "execute_result",
          "data": {
            "text/plain": [
              "17"
            ]
          },
          "metadata": {},
          "execution_count": 36
        }
      ]
    },
    {
      "cell_type": "code",
      "source": [
        "from os import replace\n",
        "arr  = np.array([\"We\", \"can\", \"Use\", \"Random\", \"On\", \"String\", \"As Well\"])\n",
        "np.random.choice(\n",
        "    arr,\n",
        "    size=(2, 2),\n",
        "    replace=True,\n",
        "\n",
        ")"
      ],
      "metadata": {
        "colab": {
          "base_uri": "https://localhost:8080/"
        },
        "id": "WH1yzN2azcU1",
        "outputId": "a47eb31b-7efe-47ad-fbb6-f88586c15b5a"
      },
      "execution_count": 37,
      "outputs": [
        {
          "output_type": "execute_result",
          "data": {
            "text/plain": [
              "array([['Random', 'can'],\n",
              "       ['String', 'On']], dtype='<U7')"
            ]
          },
          "metadata": {},
          "execution_count": 37
        }
      ]
    },
    {
      "cell_type": "code",
      "source": [
        "arr = np.arange(1, 7)\n",
        "#  p is used to define the probablity of the number in the list\n",
        "np.random.choice(arr, size=3, p=[0, 0, 0, 0.1, 0.2, 0.7], replace=True)\n"
      ],
      "metadata": {
        "colab": {
          "base_uri": "https://localhost:8080/"
        },
        "id": "LnQtsHEH0MXd",
        "outputId": "8537eaa7-4326-42b2-9881-d1d562d141af"
      },
      "execution_count": 51,
      "outputs": [
        {
          "output_type": "execute_result",
          "data": {
            "text/plain": [
              "array([6, 4, 6])"
            ]
          },
          "metadata": {},
          "execution_count": 51
        }
      ]
    },
    {
      "cell_type": "code",
      "source": [
        "#  np.random.bet is used ti generte random number from beta dist\n",
        "np.random.seed(42)  # For reproducibility\n",
        "a, b = 2, 5\n",
        "sample = np.random.beta(a, b, size=1)\n",
        "print(\"Random Beta sample:\", sample)"
      ],
      "metadata": {
        "colab": {
          "base_uri": "https://localhost:8080/"
        },
        "id": "9wk96msn79fl",
        "outputId": "f486ca3f-c904-4bcd-cb8e-5fb94bb8f4df"
      },
      "execution_count": 52,
      "outputs": [
        {
          "output_type": "stream",
          "name": "stdout",
          "text": [
            "Random Beta sample: [0.35367666]\n"
          ]
        }
      ]
    },
    {
      "cell_type": "code",
      "source": [
        "#  permutation used to permuttion np.array or generate array depend on the first parmmeter\n",
        "#  permutation(x)\n",
        "#  if x is integer it act like np.arange(x) --> generate permuation of x\n",
        "#  if x is 1d array it create the permutation of the array and retured the permuated array\n",
        "#  if the array is multidimentional it return the array with permutated one axis\n",
        "\n",
        "arr = np.arange(1, 10)\n",
        "print(arr)\n",
        "# for passing normmal integer\n",
        "print(np.random.permutation(10))\n",
        "#  For One Demension Array\n",
        "per_arr = np.random.permutation(arr)\n",
        "\n",
        "print(per_arr)\n",
        "\n",
        "#  When we pass multi demensional array\n",
        "m_arr = np.reshape(arr, newshape=(3, 3))\n",
        "#  orginal array\n",
        "print(m_arr)\n",
        "# the permutated array it permutate according to the first dim that mean permute the rows\n",
        "print(np.random.permutation(m_arr))"
      ],
      "metadata": {
        "colab": {
          "base_uri": "https://localhost:8080/"
        },
        "id": "WE1EJNFJ-z9t",
        "outputId": "3cedd2f5-2a88-44a8-968e-fc656eec4cf5"
      },
      "execution_count": 66,
      "outputs": [
        {
          "output_type": "stream",
          "name": "stdout",
          "text": [
            "[1 2 3 4 5 6 7 8 9]\n",
            "[9 5 8 6 7 3 1 2 0 4]\n",
            "[3 7 8 5 4 2 9 6 1]\n",
            "[[1 2 3]\n",
            " [4 5 6]\n",
            " [7 8 9]]\n",
            "[[7 8 9]\n",
            " [1 2 3]\n",
            " [4 5 6]]\n"
          ]
        }
      ]
    },
    {
      "cell_type": "code",
      "source": [
        "# np.random.rand is ussed to generate random number between 0 and 1 which is uniform\n",
        "#  it accept shape as parameter and if we dont pass any it return single floating number\n",
        "\n",
        "print(np.random.rand(3, 4))\n",
        "print(np.random.rand())"
      ],
      "metadata": {
        "colab": {
          "base_uri": "https://localhost:8080/"
        },
        "id": "T5ZH9WzqB_dS",
        "outputId": "04df8549-b6da-49f7-849e-6227da5e74d6"
      },
      "execution_count": 69,
      "outputs": [
        {
          "output_type": "stream",
          "name": "stdout",
          "text": [
            "[[0.18651851 0.04077514 0.59089294 0.67756436]\n",
            " [0.01658783 0.51209306 0.22649578 0.64517279]\n",
            " [0.17436643 0.69093774 0.38673535 0.93672999]]\n",
            "0.13752094414599325\n"
          ]
        }
      ]
    },
    {
      "cell_type": "code",
      "source": [
        "#  random.randint(low, high=None, size=None, dtype=int)\n",
        "#   low is integer or array of integer(what does it mean when we pass the start as array whih aact as multiple start)  ad act like the high when there isno other parameter\n",
        "#  high is interger or rray with same reason and it is exclusive\n",
        "#  size = it is either interger or tuple pf value if we dont give the value it use the length as the dim\n",
        "#  we can also pass the data type\n",
        "\n",
        "# example 1 with only low it give single random value between 0 - low -1\n",
        "print(\" Example 1 : \", np.random.randint(10))\n",
        "#  passing low and high which give single element selected from low - high - 1\n",
        "print(\"Example 2 : \", np.random.randint(20, 31))\n",
        "#  passing low , high and the size of random numbe generated size dim\n",
        "print(\"Example 3\", np.random.randint(32, 40, size=(3, )))\n",
        "#  we can pass pass list of low amd high value\n",
        "print(\"Example 4 : \", np.random.randint([43, 54, 88], [50, 70, 90], size=(3, 3)))\n",
        "#  we can also pass the data type\n",
        "print(\"Example 5 : \", np.random.randint(10, 20, dtype=np.int64))"
      ],
      "metadata": {
        "colab": {
          "base_uri": "https://localhost:8080/"
        },
        "id": "Omd7pnwKAywM",
        "outputId": "6d5b5f54-2d99-4b94-9329-b4bd2b812587"
      },
      "execution_count": 84,
      "outputs": [
        {
          "output_type": "stream",
          "name": "stdout",
          "text": [
            " Example 1 :  0\n",
            "Example 2 :  23\n",
            "Example 3 [38 36 36]\n",
            "Example 4 :  [[49 54 89]\n",
            " [45 69 89]\n",
            " [43 63 88]]\n",
            "Example 5 :  15\n"
          ]
        }
      ]
    },
    {
      "cell_type": "code",
      "source": [
        "arr_2d = np.array([[1, 2, 3], [4, 5, 6], [7, 8, 9]])\n",
        "\n",
        "#  accessing single element\n",
        "\n",
        "# print(arr_2d[2, 1])\n",
        "\n",
        "#  accesssing multiple element using tuple idex\n",
        "# print(arr_2d[[1], [1, 2]])\n",
        "#  slicing\n",
        "print(arr_2d[0:, 1:])\n",
        "\n"
      ],
      "metadata": {
        "colab": {
          "base_uri": "https://localhost:8080/"
        },
        "id": "RzI9K5WkG-j4",
        "outputId": "f2672cb7-5db8-4c69-c83b-ae8fa1028a88"
      },
      "execution_count": 11,
      "outputs": [
        {
          "output_type": "stream",
          "name": "stdout",
          "text": [
            "[[2 3]\n",
            " [5 6]\n",
            " [8 9]]\n"
          ]
        }
      ]
    },
    {
      "cell_type": "code",
      "source": [
        "#  boolean indexing\n",
        "even_arr_bool =arr_2d % 2 == 0\n",
        "print(arr_2d[even_arr_bool])"
      ],
      "metadata": {
        "colab": {
          "base_uri": "https://localhost:8080/"
        },
        "id": "GCqpG2Zoqpv_",
        "outputId": "62eef38b-e71b-4c31-e902-61a96b36a72b"
      },
      "execution_count": 15,
      "outputs": [
        {
          "output_type": "stream",
          "name": "stdout",
          "text": [
            "[2 4 6 8]\n"
          ]
        }
      ]
    },
    {
      "cell_type": "code",
      "source": [
        "arr1 = np.arange(1, 25)\n",
        "arr1.shape=(2, 3, 4)\n",
        "print(arr1)\n",
        "arr1[:, 1:2, 2:]\n"
      ],
      "metadata": {
        "colab": {
          "base_uri": "https://localhost:8080/"
        },
        "id": "Xn6SIaTZstKn",
        "outputId": "8c6ae2ea-191e-48e8-9fa5-65de8eb2c3c3"
      },
      "execution_count": 34,
      "outputs": [
        {
          "output_type": "stream",
          "name": "stdout",
          "text": [
            "[[[ 1  2  3  4]\n",
            "  [ 5  6  7  8]\n",
            "  [ 9 10 11 12]]\n",
            "\n",
            " [[13 14 15 16]\n",
            "  [17 18 19 20]\n",
            "  [21 22 23 24]]]\n"
          ]
        },
        {
          "output_type": "execute_result",
          "data": {
            "text/plain": [
              "array([[[ 7,  8]],\n",
              "\n",
              "       [[19, 20]]])"
            ]
          },
          "metadata": {},
          "execution_count": 34
        }
      ]
    },
    {
      "cell_type": "code",
      "source": [
        "arr2 = np.random.randint(2, 101, size = (3, 4))\n",
        "print(arr2)\n",
        "np.where(arr2 % 2 == 0)"
      ],
      "metadata": {
        "colab": {
          "base_uri": "https://localhost:8080/"
        },
        "id": "YxwCG75AvApa",
        "outputId": "5921d16f-a9c6-4cb3-9a4a-2474f0be91b1"
      },
      "execution_count": 39,
      "outputs": [
        {
          "output_type": "stream",
          "name": "stdout",
          "text": [
            "[[80 79 20 73]\n",
            " [ 9 55  3 67]\n",
            " [25  8 94 60]]\n"
          ]
        },
        {
          "output_type": "execute_result",
          "data": {
            "text/plain": [
              "(array([0, 0, 2, 2, 2]), array([0, 2, 1, 2, 3]))"
            ]
          },
          "metadata": {},
          "execution_count": 39
        }
      ]
    }
  ]
}
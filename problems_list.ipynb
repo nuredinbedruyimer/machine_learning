{
  "nbformat": 4,
  "nbformat_minor": 0,
  "metadata": {
    "colab": {
      "provenance": [],
      "authorship_tag": "ABX9TyM0kKN31RwhSFSDyHn86RO2",
      "include_colab_link": true
    },
    "kernelspec": {
      "name": "python3",
      "display_name": "Python 3"
    },
    "language_info": {
      "name": "python"
    }
  },
  "cells": [
    {
      "cell_type": "markdown",
      "metadata": {
        "id": "view-in-github",
        "colab_type": "text"
      },
      "source": [
        "<a href=\"https://colab.research.google.com/github/nuredinbedruyimer/machine_learning/blob/main/problems_list.ipynb\" target=\"_parent\"><img src=\"https://colab.research.google.com/assets/colab-badge.svg\" alt=\"Open In Colab\"/></a>"
      ]
    },
    {
      "cell_type": "code",
      "execution_count": null,
      "metadata": {
        "id": "BC2fByaOdLzq"
      },
      "outputs": [],
      "source": [
        "import numpy as np"
      ]
    },
    {
      "cell_type": "markdown",
      "source": [
        "# 1, How to Remove rows in Numpy array that contains non-numeric values?\n",
        "   Answer\n",
        "   - First use isnan to check the element is nan or number.if it is nan it return true else false and finally return boolean array of the same size\n",
        "   - and find row with any(at leats one nan) value is true and create boolean value for all row\n",
        "   - after that we remove row that is have any true after isnan is excute and return boolarray\n",
        "   - numpy use the boolean indexing to give us the remaining value\n",
        "  NB : we can manage the axis using the axis option of the any which help us to determine the axis we remove\n",
        "-"
      ],
      "metadata": {
        "id": "FOrH4ZmU8zXL"
      }
    },
    {
      "cell_type": "code",
      "source": [
        "n_arr = np.array([[10.5, 22.5, 3.8],\n",
        "                  [23.45, 50, 78.7],\n",
        "                  [41, np.nan, np.nan]])\n",
        "\n",
        "#  apply the isnan and it return boolean array with same shap\n",
        "nan_places = np.isnan(n_arr)\n",
        "#  we find any row or col (as our requirment) with at least one true(nan value)\n",
        "rows_value = nan_places.any(axis=1)\n",
        "#  toggle the value of the above array which tell us row with nan value false this help us to us the\n",
        "#  array as boolan indexing\n",
        "~rows_value\n",
        "#  then use the boolean array as index and it return row with no nan value\n",
        "n_arr[~rows_value]\n",
        "\n"
      ],
      "metadata": {
        "colab": {
          "base_uri": "https://localhost:8080/"
        },
        "id": "3RmQcvEz_WvR",
        "outputId": "d8501f8d-a62e-4fa9-af4f-7abfa1098cc4"
      },
      "execution_count": 50,
      "outputs": [
        {
          "output_type": "execute_result",
          "data": {
            "text/plain": [
              "array([[10.5 , 22.5 ,  3.8 ],\n",
              "       [23.45, 50.  , 78.7 ]])"
            ]
          },
          "metadata": {},
          "execution_count": 50
        }
      ]
    },
    {
      "cell_type": "code",
      "source": [
        "n_arr = np.array([[10.5, 22.5, 3.8],\n",
        "                  [23.45, 50, 78.7],\n",
        "                  [41, np.nan, np.nan]])\n",
        "#  we can do the above shortly using below\n",
        "n_arr[~np.isnan(n_arr).any(axis=1)]"
      ],
      "metadata": {
        "colab": {
          "base_uri": "https://localhost:8080/"
        },
        "id": "YToHI6RWA87h",
        "outputId": "9834c4b8-51f9-48ec-ffc5-5ecc9d267253"
      },
      "execution_count": 51,
      "outputs": [
        {
          "output_type": "execute_result",
          "data": {
            "text/plain": [
              "array([[10.5 , 22.5 ,  3.8 ],\n",
              "       [23.45, 50.  , 78.7 ]])"
            ]
          },
          "metadata": {},
          "execution_count": 51
        }
      ]
    },
    {
      "cell_type": "markdown",
      "source": [
        "# 2, Remove single-dimensional entries from the shape of an array ?\n",
        "Answer\n",
        "- using squeeze method of np and pass axis along with it which help us to remove all unnessary 1 demintion\n",
        " case_one = if we dont pass axis this remove all 1 deminsion\n",
        " case_two  =  if we pass axis remove that axis if it is equal to one otherwise it give typeError"
      ],
      "metadata": {
        "id": "Ui8cEbIKB6Xf"
      }
    },
    {
      "cell_type": "code",
      "source": [
        "arr = np.arange(12)\n",
        "arr.shape = (1, 1, 2, 2, 3)\n",
        "arr.squeeze(axis=(0,1))"
      ],
      "metadata": {
        "colab": {
          "base_uri": "https://localhost:8080/"
        },
        "id": "Y0otCx_tH_-O",
        "outputId": "4ce4eb65-00c5-4f8f-bde3-c0f93d2f2ad7"
      },
      "execution_count": 59,
      "outputs": [
        {
          "output_type": "execute_result",
          "data": {
            "text/plain": [
              "array([[[ 0,  1,  2],\n",
              "        [ 3,  4,  5]],\n",
              "\n",
              "       [[ 6,  7,  8],\n",
              "        [ 9, 10, 11]]])"
            ]
          },
          "metadata": {},
          "execution_count": 59
        }
      ]
    },
    {
      "cell_type": "markdown",
      "source": [
        "# 3 Find the number of occurrences of a sequence in a NumPy array ?\n",
        "Answer\n",
        "1, use np.lib.stride_tricks.sliding_window_view(arr, len(sequence))"
      ],
      "metadata": {
        "id": "QAqresnyKUM0"
      }
    },
    {
      "cell_type": "code",
      "source": [
        "\n",
        "\n",
        "arr = np.array([1, 2, 3, 1, 2, 3, 4, 1, 2, 3])\n",
        "\n",
        "\n",
        "sequence = np.array([1, 2, 3])\n",
        "\n",
        "\n",
        "#  create which consit of the length of len(squence) X len(arr) - len(sequnce) + 1 maatric\n",
        "\n",
        "window_arr = np.lib.stride_tricks.sliding_window_view(arr, len(sequence))\n",
        "window_bool = window_arr==sequence\n",
        "#  then count all row(axis=1) with all true\n",
        "same_window = np.all(window_bool, axis=1)\n",
        "np.sum(same_window)\n",
        "\n",
        "\n",
        "\n"
      ],
      "metadata": {
        "colab": {
          "base_uri": "https://localhost:8080/"
        },
        "id": "AIyYVfcCKWi8",
        "outputId": "e0558cbc-2b2e-4a85-b067-d29dcabe1b11"
      },
      "execution_count": 69,
      "outputs": [
        {
          "output_type": "execute_result",
          "data": {
            "text/plain": [
              "3"
            ]
          },
          "metadata": {},
          "execution_count": 69
        }
      ]
    },
    {
      "cell_type": "code",
      "source": [
        "arr1 = np.array([[1, 2, 3],\n",
        "                [4, 5, 6],\n",
        "                [7, 8, 9], [10, 20, 30]])\n",
        "\n",
        "sequence = np.array([4, 5, 6])\n",
        "\n",
        "# Sliding window view:\n",
        "windows = np.lib.stride_tricks.sliding_window_view(arr1, len(sequence), axis=1) == sequence\n",
        "np.sum(np.all(windows, axis=1))\n"
      ],
      "metadata": {
        "colab": {
          "base_uri": "https://localhost:8080/"
        },
        "id": "3d-zFtA3PWZp",
        "outputId": "6c829f46-2eda-4ffa-adf6-1e5448517cb4"
      },
      "execution_count": 81,
      "outputs": [
        {
          "output_type": "execute_result",
          "data": {
            "text/plain": [
              "3"
            ]
          },
          "metadata": {},
          "execution_count": 81
        }
      ]
    }
  ]
}
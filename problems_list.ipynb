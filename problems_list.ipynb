{
  "nbformat": 4,
  "nbformat_minor": 0,
  "metadata": {
    "colab": {
      "provenance": [],
      "authorship_tag": "ABX9TyNiyjIZu6XJc7AppHRMRt8m",
      "include_colab_link": true
    },
    "kernelspec": {
      "name": "python3",
      "display_name": "Python 3"
    },
    "language_info": {
      "name": "python"
    }
  },
  "cells": [
    {
      "cell_type": "markdown",
      "metadata": {
        "id": "view-in-github",
        "colab_type": "text"
      },
      "source": [
        "<a href=\"https://colab.research.google.com/github/nuredinbedruyimer/machine_learning/blob/main/problems_list.ipynb\" target=\"_parent\"><img src=\"https://colab.research.google.com/assets/colab-badge.svg\" alt=\"Open In Colab\"/></a>"
      ]
    },
    {
      "cell_type": "code",
      "execution_count": 2,
      "metadata": {
        "id": "BC2fByaOdLzq"
      },
      "outputs": [],
      "source": [
        "import numpy as np"
      ]
    },
    {
      "cell_type": "markdown",
      "source": [
        "# 1, Find the most frequent value in a NumPy array?\n",
        "\n",
        "### Answer\n",
        "\n",
        "- First Ccount the freq for every integer by creating array of length of max element in the array\n",
        "- we use argmax to find the max occured index as answer"
      ],
      "metadata": {
        "id": "xybokQO2A3x6"
      }
    },
    {
      "cell_type": "code",
      "source": [
        "arr = np.array([1, 2, 3, 4, 2, 2, 4, 5,3, 3, 3, 4])\n",
        "np.bincount(arr).argmax()"
      ],
      "metadata": {
        "colab": {
          "base_uri": "https://localhost:8080/"
        },
        "id": "UMyfEwG0DYhQ",
        "outputId": "31d1f01a-1691-4798-c3c6-4489f232d200"
      },
      "execution_count": 7,
      "outputs": [
        {
          "output_type": "execute_result",
          "data": {
            "text/plain": [
              "3"
            ]
          },
          "metadata": {},
          "execution_count": 7
        }
      ]
    },
    {
      "cell_type": "markdown",
      "source": [],
      "metadata": {
        "id": "Pg4LLfZxA3pk"
      }
    },
    {
      "cell_type": "markdown",
      "source": [
        "# 2, How to compare two NumPy arrays?\n",
        "Solution1\n",
        "  - to compare two numpy array what we use is == oprator which return boolean value with same shape and then we use all to check the truthy of all if all are true that mean the same else not same"
      ],
      "metadata": {
        "id": "ohmpU5XFFuH0"
      }
    },
    {
      "cell_type": "code",
      "source": [
        "arr_one = np.arange(20, 32)\n",
        "arr_one.shape = (3, -1)\n",
        "arr_two =  arr_one\n",
        "arr_three = np.arange(200, 212)\n",
        "arr_three.shape = (3, -1)\n",
        "#  use the == oprator to get the boolean array\n",
        "boolean_arr = arr_two == arr_one\n",
        "\n",
        "\n",
        "'''\n",
        "[[ True,  True,  True,  True],\n",
        " [ True,  True,  True,  True],\n",
        " [ True,  True,  True,  True]]\n",
        "'''\n",
        "boolean_arr_2 = arr_two == arr_three\n",
        "# boolean_arr_2\n",
        "\n",
        "#  then we can use all method to find out all elemet are same or not\n",
        "boolean_arr.all()\n",
        "boolean_arr_2.all()"
      ],
      "metadata": {
        "colab": {
          "base_uri": "https://localhost:8080/"
        },
        "id": "8Uv6R1MXGRrx",
        "outputId": "7a432bfd-f6c6-445a-eb1e-199519336189"
      },
      "execution_count": 20,
      "outputs": [
        {
          "output_type": "execute_result",
          "data": {
            "text/plain": [
              "False"
            ]
          },
          "metadata": {},
          "execution_count": 20
        }
      ]
    },
    {
      "cell_type": "markdown",
      "source": [
        "Solution2\n",
        "- we use the np method to compare array element wise\n",
        "  lessthan , greater than, lessthanadequal, greater than or equal"
      ],
      "metadata": {
        "id": "qwXGPLb6IQKr"
      }
    },
    {
      "cell_type": "code",
      "source": [
        "#  Compare the element one with element two come from the first and second parameter respectivily\n",
        "np.greater(arr_three, arr_two).all()\n",
        "np.greater_equal(arr_three, arr_two).all()\n",
        "arr_three[-1] = 8\n",
        "np.less(arr_three, arr_two).all()\n",
        "np.less_equal(arr_two, arr_one).all()\n",
        "np.equal(arr_two, arr_one).all()"
      ],
      "metadata": {
        "colab": {
          "base_uri": "https://localhost:8080/"
        },
        "id": "t7OvjyYaIlsC",
        "outputId": "b272707a-a173-4342-ef90-158d17db59f9"
      },
      "execution_count": 34,
      "outputs": [
        {
          "output_type": "execute_result",
          "data": {
            "text/plain": [
              "True"
            ]
          },
          "metadata": {},
          "execution_count": 34
        }
      ]
    },
    {
      "cell_type": "markdown",
      "source": [
        "Solution3\n",
        "- we can use the np method which return true or false after compare all element"
      ],
      "metadata": {
        "id": "TsPmMtEfJ3Ta"
      }
    },
    {
      "cell_type": "code",
      "source": [
        "np.array_equal(arr_two, arr_one)"
      ],
      "metadata": {
        "colab": {
          "base_uri": "https://localhost:8080/"
        },
        "id": "y0GrzlofJxKb",
        "outputId": "0669cf21-b975-49aa-87b8-de3722aa2316"
      },
      "execution_count": 35,
      "outputs": [
        {
          "output_type": "execute_result",
          "data": {
            "text/plain": [
              "True"
            ]
          },
          "metadata": {},
          "execution_count": 35
        }
      ]
    }
  ]
}
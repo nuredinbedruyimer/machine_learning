{
  "nbformat": 4,
  "nbformat_minor": 0,
  "metadata": {
    "colab": {
      "provenance": [],
      "authorship_tag": "ABX9TyM/HjmePAXzr73C39F6FNhd",
      "include_colab_link": true
    },
    "kernelspec": {
      "name": "python3",
      "display_name": "Python 3"
    },
    "language_info": {
      "name": "python"
    }
  },
  "cells": [
    {
      "cell_type": "markdown",
      "metadata": {
        "id": "view-in-github",
        "colab_type": "text"
      },
      "source": [
        "<a href=\"https://colab.research.google.com/github/nuredinbedruyimer/machine_learning/blob/main/normalize.ipynb\" target=\"_parent\"><img src=\"https://colab.research.google.com/assets/colab-badge.svg\" alt=\"Open In Colab\"/></a>"
      ]
    },
    {
      "cell_type": "code",
      "execution_count": 1,
      "metadata": {
        "id": "BC2fByaOdLzq"
      },
      "outputs": [],
      "source": [
        "import numpy as np"
      ]
    },
    {
      "cell_type": "code",
      "source": [
        "data = np.arange(1, 36)\n",
        "new_data = data.reshape((5, -1))\n",
        "mean = np.arange(7, 14)\n",
        "std_div = np.arange(14, 21)\n",
        "new_data\n"
      ],
      "metadata": {
        "colab": {
          "base_uri": "https://localhost:8080/"
        },
        "id": "Krj-H_bodkZL",
        "outputId": "a614d2d8-3d14-48bf-d5de-55dc14653697"
      },
      "execution_count": 14,
      "outputs": [
        {
          "output_type": "execute_result",
          "data": {
            "text/plain": [
              "array([[ 1,  2,  3,  4,  5,  6,  7],\n",
              "       [ 8,  9, 10, 11, 12, 13, 14],\n",
              "       [15, 16, 17, 18, 19, 20, 21],\n",
              "       [22, 23, 24, 25, 26, 27, 28],\n",
              "       [29, 30, 31, 32, 33, 34, 35]])"
            ]
          },
          "metadata": {},
          "execution_count": 14
        }
      ]
    },
    {
      "cell_type": "code",
      "source": [
        "mean"
      ],
      "metadata": {
        "colab": {
          "base_uri": "https://localhost:8080/"
        },
        "id": "rOdzrIKOf7QU",
        "outputId": "452e4d6b-b11c-4dbe-e45d-327146a485f9"
      },
      "execution_count": 16,
      "outputs": [
        {
          "output_type": "execute_result",
          "data": {
            "text/plain": [
              "array([ 7,  8,  9, 10, 11, 12, 13])"
            ]
          },
          "metadata": {},
          "execution_count": 16
        }
      ]
    },
    {
      "cell_type": "code",
      "source": [
        "#  Normalize the data first subtract the mean from all element and devide all element using the std_div\n",
        "\n",
        "\n",
        "#  first calculate the diff = data - mean\n",
        "#  to do that we have to conver the mean to 1 x 3 shape\n",
        "normal = (new_data - mean[np.newaxis, :])/mean[np.newaxis, :]\n",
        "normal"
      ],
      "metadata": {
        "colab": {
          "base_uri": "https://localhost:8080/"
        },
        "id": "Zhae9R8JeahQ",
        "outputId": "e1dd513a-4b93-4eb4-9a04-17b0058ad7ee"
      },
      "execution_count": 18,
      "outputs": [
        {
          "output_type": "execute_result",
          "data": {
            "text/plain": [
              "array([[-0.85714286, -0.75      , -0.66666667, -0.6       , -0.54545455,\n",
              "        -0.5       , -0.46153846],\n",
              "       [ 0.14285714,  0.125     ,  0.11111111,  0.1       ,  0.09090909,\n",
              "         0.08333333,  0.07692308],\n",
              "       [ 1.14285714,  1.        ,  0.88888889,  0.8       ,  0.72727273,\n",
              "         0.66666667,  0.61538462],\n",
              "       [ 2.14285714,  1.875     ,  1.66666667,  1.5       ,  1.36363636,\n",
              "         1.25      ,  1.15384615],\n",
              "       [ 3.14285714,  2.75      ,  2.44444444,  2.2       ,  2.        ,\n",
              "         1.83333333,  1.69230769]])"
            ]
          },
          "metadata": {},
          "execution_count": 18
        }
      ]
    },
    {
      "cell_type": "code",
      "source": [
        "matrix = np.array([[10, 20, 30], [40, 50, 60]])\n",
        "bias = np.array([1, 2, 3])\n",
        "result = matrix + bias\n",
        "result"
      ],
      "metadata": {
        "colab": {
          "base_uri": "https://localhost:8080/"
        },
        "id": "4ASA5vqtq9tR",
        "outputId": "2eab1b90-07b2-4cfc-908c-65c8f052b7ed"
      },
      "execution_count": 21,
      "outputs": [
        {
          "output_type": "execute_result",
          "data": {
            "text/plain": [
              "array([[11, 22, 33],\n",
              "       [41, 52, 63]])"
            ]
          },
          "metadata": {},
          "execution_count": 21
        }
      ]
    }
  ]
}
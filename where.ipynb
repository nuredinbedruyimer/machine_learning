{
  "nbformat": 4,
  "nbformat_minor": 0,
  "metadata": {
    "colab": {
      "provenance": [],
      "authorship_tag": "ABX9TyOj7OZO0kipQwBW8FvQDhsY",
      "include_colab_link": true
    },
    "kernelspec": {
      "name": "python3",
      "display_name": "Python 3"
    },
    "language_info": {
      "name": "python"
    }
  },
  "cells": [
    {
      "cell_type": "markdown",
      "metadata": {
        "id": "view-in-github",
        "colab_type": "text"
      },
      "source": [
        "<a href=\"https://colab.research.google.com/github/nuredinbedruyimer/machine_learning/blob/main/where.ipynb\" target=\"_parent\"><img src=\"https://colab.research.google.com/assets/colab-badge.svg\" alt=\"Open In Colab\"/></a>"
      ]
    },
    {
      "cell_type": "code",
      "execution_count": 1,
      "metadata": {
        "id": "ut348-ktoSMt"
      },
      "outputs": [],
      "source": [
        "import numpy as np"
      ]
    },
    {
      "cell_type": "code",
      "source": [
        "#  Where is Used to filter some data and appley some change based on that\n",
        "#  for example we need to replace the negative price with avarage of the positive sales\n",
        "sales_data = np.array([\n",
        "    [100, -5, 200],\n",
        "    [150, -20, 300]\n",
        "])\n",
        "\n",
        "#  step one create boolean index to filter all positive sales\n",
        "positive_sales_bool_index = sales_data > 0\n",
        "#  then filtwr the data based on the above boolean index and filter the data\n",
        "positive_sales = sales_data[positive_sales_bool_index]\n",
        "#  the find the mean\n",
        "avarage_sale = np.mean(positive_sales)\n",
        "#  then filter all negative sales and replace with the avarage\n",
        "cleaned_data = np.where(sales_data < 0, avarage_sale, sales_data)\n",
        "cleaned_data\n",
        "\n"
      ],
      "metadata": {
        "colab": {
          "base_uri": "https://localhost:8080/"
        },
        "id": "e3IFPdWeq3zv",
        "outputId": "adf5a99e-ea6d-4abe-90ac-1a395f36b886"
      },
      "execution_count": 12,
      "outputs": [
        {
          "output_type": "execute_result",
          "data": {
            "text/plain": [
              "array([[100. , 187.5, 200. ],\n",
              "       [150. , 187.5, 300. ]])"
            ]
          },
          "metadata": {},
          "execution_count": 12
        }
      ]
    },
    {
      "cell_type": "code",
      "source": [
        "#  let us see broadcasting as an example\n",
        "row_array, col_array = np.ogrid[:3, :4]\n",
        "#  the actual shape of the above is looks like below\n",
        "# row_array = [[0],\n",
        "#              [1],\n",
        "#              [2]]\n",
        "# col_array = [[0, 1, 2, 3]]\n",
        "\n",
        "#  case-1 : calculating the condtion from two broadcasting array and then used tht as condtion\n",
        "\n",
        "# row_array  = [[0, 0, 0, 0],\n",
        "#              [1, 1, 1, 1],\n",
        "#              [2, 2, 2, 2]]\n",
        "# col_array = [[0, 1, 2, 3],\n",
        "#              [0, 1, 2, 3],\n",
        "#              [0, 1, 2, 3]]\n",
        "\n",
        "# then compare the value element wise\n",
        "\n",
        "np.where(row_array == col_array, row_array, 100 + col_array)\n",
        "\n",
        "#  the result will be below\n",
        "# [[0, 1, 2, 3],\n",
        "#  [0, 1, 2, 3],\n",
        "#  [0, 1, 2, 3]]\n",
        "\n",
        "\n"
      ],
      "metadata": {
        "colab": {
          "base_uri": "https://localhost:8080/"
        },
        "id": "tVcU1y6QzsA5",
        "outputId": "a566d800-88c6-41a2-ac26-03de4b19772a"
      },
      "execution_count": 13,
      "outputs": [
        {
          "output_type": "execute_result",
          "data": {
            "text/plain": [
              "array([[  0, 101, 102, 103],\n",
              "       [100,   1, 102, 103],\n",
              "       [100, 101,   2, 103]])"
            ]
          },
          "metadata": {},
          "execution_count": 13
        }
      ]
    },
    {
      "cell_type": "code",
      "source": [
        "\n",
        "\n"
      ],
      "metadata": {
        "colab": {
          "base_uri": "https://localhost:8080/"
        },
        "id": "8L4aJNjN46La",
        "outputId": "f9c31a06-83f7-4b70-9b43-75c5b9285c94"
      },
      "execution_count": 20,
      "outputs": [
        {
          "output_type": "execute_result",
          "data": {
            "text/plain": [
              "array([30. , 13. , 32.5])"
            ]
          },
          "metadata": {},
          "execution_count": 20
        }
      ]
    },
    {
      "cell_type": "code",
      "source": [
        "arr = np.random.randint(0, 2, size=(4, 4))\n",
        "\n",
        "arr\n",
        "#  np.array(array, axis = None, out=None, keeepdims = False)\n",
        "\n",
        "#  1 just pass array which leads to finding just one element that make the condtion true if it get return single value true other wise False\n",
        "np.any(arr)\n",
        "#  2, pass the axis number it condense the array along that axis let exampe say we use axis= 0 it condense along the column it return 1 X columns_number\n",
        "\n",
        "np.any(arr, axis=0)\n",
        "#  3, passing the keepdim which keep the dimention\n",
        "np.any(arr, keepdims=True)\n",
        "np.any(arr, axis=1, keepdims=True)\n",
        "\n",
        "\n"
      ],
      "metadata": {
        "colab": {
          "base_uri": "https://localhost:8080/"
        },
        "id": "f-Ig1YGL-eGW",
        "outputId": "555bad24-6910-4d76-e2e3-fa6e08468e83"
      },
      "execution_count": 36,
      "outputs": [
        {
          "output_type": "execute_result",
          "data": {
            "text/plain": [
              "array([[ True],\n",
              "       [False],\n",
              "       [ True],\n",
              "       [ True]])"
            ]
          },
          "metadata": {},
          "execution_count": 36
        }
      ]
    }
  ]
}
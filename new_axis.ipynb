{
  "nbformat": 4,
  "nbformat_minor": 0,
  "metadata": {
    "colab": {
      "provenance": [],
      "authorship_tag": "ABX9TyMavyr6RhHwKPWy5+xqsODu",
      "include_colab_link": true
    },
    "kernelspec": {
      "name": "python3",
      "display_name": "Python 3"
    },
    "language_info": {
      "name": "python"
    }
  },
  "cells": [
    {
      "cell_type": "markdown",
      "metadata": {
        "id": "view-in-github",
        "colab_type": "text"
      },
      "source": [
        "<a href=\"https://colab.research.google.com/github/nuredinbedruyimer/machine_learning/blob/main/new_axis.ipynb\" target=\"_parent\"><img src=\"https://colab.research.google.com/assets/colab-badge.svg\" alt=\"Open In Colab\"/></a>"
      ]
    },
    {
      "cell_type": "code",
      "execution_count": 1,
      "metadata": {
        "id": "If3Wq9TkroUu"
      },
      "outputs": [],
      "source": [
        "import numpy as np"
      ]
    },
    {
      "cell_type": "code",
      "source": [
        "#  Let say i want to do some subtraction of list of number from the number and p\n",
        "#  example  A = [10, 20, 30, 50]\n",
        "#           B = [4, 5, 6, 7, 9]\n",
        "#  what i need is the   Cij = Aij - Bij or i wanted 4 x 5 matrix which represen\n",
        "#   example for first row we do 10 - all values from the B give as first row which contain five element\n",
        "#  the result value R = [[6, 16, 26, 46],\n",
        "#                        [5, 15, 25, 45],\n",
        "#                        [4, 14, 24, 44],[3, 13, 23, 43], [1, 11, 21, 41]  ]\n",
        "\n",
        "\n",
        "A = np.array([10, 20, 30, 50])\n",
        "B = np.array([4, 5, 6, 7, 9])\n",
        "# a  =  A[:, np.newaxis]\n",
        "# b = B[np.newaxis,:  ]\n",
        "a  =  A[np.newaxis , :]\n",
        "b = B[:, np.newaxis  ]\n",
        "a - b"
      ],
      "metadata": {
        "colab": {
          "base_uri": "https://localhost:8080/"
        },
        "id": "koOgetlF8TwN",
        "outputId": "b6b15716-bed5-4420-df82-c729b8ce10e8"
      },
      "execution_count": 15,
      "outputs": [
        {
          "output_type": "execute_result",
          "data": {
            "text/plain": [
              "array([[ 6, 16, 26, 46],\n",
              "       [ 5, 15, 25, 45],\n",
              "       [ 4, 14, 24, 44],\n",
              "       [ 3, 13, 23, 43],\n",
              "       [ 1, 11, 21, 41]])"
            ]
          },
          "metadata": {},
          "execution_count": 15
        }
      ]
    }
  ]
}
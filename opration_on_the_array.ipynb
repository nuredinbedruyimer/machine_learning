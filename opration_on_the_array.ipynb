{
  "nbformat": 4,
  "nbformat_minor": 0,
  "metadata": {
    "colab": {
      "provenance": [],
      "authorship_tag": "ABX9TyPBqzwVuUh8m3Nz1NnD7cSp",
      "include_colab_link": true
    },
    "kernelspec": {
      "name": "python3",
      "display_name": "Python 3"
    },
    "language_info": {
      "name": "python"
    }
  },
  "cells": [
    {
      "cell_type": "markdown",
      "metadata": {
        "id": "view-in-github",
        "colab_type": "text"
      },
      "source": [
        "<a href=\"https://colab.research.google.com/github/nuredinbedruyimer/machine_learning/blob/main/opration_on_the_array.ipynb\" target=\"_parent\"><img src=\"https://colab.research.google.com/assets/colab-badge.svg\" alt=\"Open In Colab\"/></a>"
      ]
    },
    {
      "cell_type": "code",
      "source": [
        "import numpy as np"
      ],
      "metadata": {
        "id": "0VcJjo6mdo37"
      },
      "execution_count": 2,
      "outputs": []
    },
    {
      "cell_type": "markdown",
      "source": [
        "- We Can Add To array asif they are scalar if they have same shape and let say we have n X m matrix named as A and B\n",
        "\n",
        "*   if the shape is same we can add them as scalars i.e   R = A + B\n",
        "*   if the shape is same we can sub  them as scalar i.e   R = A - B\n",
        "*   if the shape is same we can multiply them as scalar i.e R = A * B\n",
        "*   if the shape is same we can divide them as scalar i.e R = A/ b\n",
        "\n",
        "\n",
        "\n"
      ],
      "metadata": {
        "id": "ueBrTt-1svtE"
      }
    },
    {
      "cell_type": "code",
      "source": [
        "#  Example using  For 1D\n",
        "prices1 = np.array([10, 20, 30, 40, 50])\n",
        "\n",
        "prices2 = np.array([100, 200, 300, 400, 500])\n"
      ],
      "metadata": {
        "id": "y6Ts-OdNsmwc"
      },
      "execution_count": 55,
      "outputs": []
    },
    {
      "cell_type": "code",
      "source": [
        "#  Add Two Same Shapped Array\n",
        "total_prices = prices1 + prices2\n",
        "print(total_prices)\n",
        "#  subtract\n",
        "\n",
        "final_prices = prices2 - prices1\n",
        "print(final_prices)\n",
        "#  Multiply Two Values\n",
        "new_prices = prices1 * prices2\n",
        "print(new_prices)\n",
        "last_prices = prices2 / prices1\n",
        "print(last_prices)\n"
      ],
      "metadata": {
        "colab": {
          "base_uri": "https://localhost:8080/"
        },
        "id": "gcOmzfxZs4Q1",
        "outputId": "98b28aff-5133-48d8-dcfa-2072c43165af"
      },
      "execution_count": 59,
      "outputs": [
        {
          "output_type": "stream",
          "name": "stdout",
          "text": [
            "[110 220 330 440 550]\n",
            "[ 90 180 270 360 450]\n",
            "[ 1000  4000  9000 16000 25000]\n",
            "[10. 10. 10. 10. 10.]\n"
          ]
        }
      ]
    },
    {
      "cell_type": "code",
      "source": [
        "prices1 = np.array([[\n",
        "    [10, 20, 30, 40, 50],\n",
        "    [101, 200, 303, 40, 50]\n",
        "], [\n",
        "    [10, 20, 30, 40, 50],\n",
        "    [101, 200, 303, 40, 50]\n",
        "]])\n",
        "\n",
        "prices2 = np.array([[\n",
        "    [10, 20, 30, 40, 50],\n",
        "    [101, 20, 303, 40, 50]\n",
        "], [\n",
        "    [10, 200, 300, 400, 50],\n",
        "    [101, 200, 303, 40, 50]\n",
        "]])"
      ],
      "metadata": {
        "id": "J6QD0zPIvajr"
      },
      "execution_count": 60,
      "outputs": []
    },
    {
      "cell_type": "code",
      "source": [
        "#  Shape of the above two arrays are the same which is 2x2x5 and we can do add, sub , div, mul as if they are scalar\n",
        "add_r = prices1 + prices2\n",
        "\n",
        "print(\"Added : \", add_r)\n",
        "\n",
        "sub_r = prices2 - prices1\n",
        "\n",
        "print(\"Sub : \", sub_r)\n",
        "\n",
        "mul_r = prices1 * prices2\n",
        "print(\"Mul : \", mul_r)\n",
        "div_r = prices2/ prices1\n",
        "print(\"Div : \", div_r)"
      ],
      "metadata": {
        "colab": {
          "base_uri": "https://localhost:8080/"
        },
        "id": "VouhnRcIvstS",
        "outputId": "94e74e4e-4272-4498-e24b-237eb2354cae"
      },
      "execution_count": 62,
      "outputs": [
        {
          "output_type": "stream",
          "name": "stdout",
          "text": [
            "Added :  [[[ 20  40  60  80 100]\n",
            "  [202 220 606  80 100]]\n",
            "\n",
            " [[ 20 220 330 440 100]\n",
            "  [202 400 606  80 100]]]\n",
            "Sub :  [[[   0    0    0    0    0]\n",
            "  [   0 -180    0    0    0]]\n",
            "\n",
            " [[   0  180  270  360    0]\n",
            "  [   0    0    0    0    0]]]\n",
            "Mul :  [[[  100   400   900  1600  2500]\n",
            "  [10201  4000 91809  1600  2500]]\n",
            "\n",
            " [[  100  4000  9000 16000  2500]\n",
            "  [10201 40000 91809  1600  2500]]]\n",
            "Div :  [[[ 1.   1.   1.   1.   1. ]\n",
            "  [ 1.   0.1  1.   1.   1. ]]\n",
            "\n",
            " [[ 1.  10.  10.  10.   1. ]\n",
            "  [ 1.   1.   1.   1.   1. ]]]\n"
          ]
        }
      ]
    },
    {
      "cell_type": "code",
      "source": [
        "#  Multipley With Scalar\n",
        "\n",
        "prices3 = np.array([[\n",
        "    [10, 20, 30, 40, 50],\n",
        "    [101, 200, 303, 40, 50]\n",
        "], [\n",
        "    [10, 20, 30, 40, 50],\n",
        "    [101, 200, 303, 40, 50]\n",
        "]])\n",
        "\n",
        "prices4 = np.array([100, 200, 300, 400, 500])\n",
        "\n"
      ],
      "metadata": {
        "id": "XD99at00wvNb"
      },
      "execution_count": 64,
      "outputs": []
    },
    {
      "cell_type": "code",
      "source": [
        "#  add scalar to all element value with k\n",
        "\n",
        "prices4_new = prices4 + 100\n",
        "# prices4_new = prices4 * 100 multipley all element by 100\n",
        "# prices4_new = prices4 / 100 divide all element by 100\n",
        "# prices4_new = prices4 - 100 subtract 100 from all element\n",
        "\n",
        "\n",
        "\n",
        "\n",
        "print(prices4_new)"
      ],
      "metadata": {
        "colab": {
          "base_uri": "https://localhost:8080/"
        },
        "id": "I4QoJ7GPw9km",
        "outputId": "27c8af4f-738e-449f-f9e6-98f49962de24"
      },
      "execution_count": 66,
      "outputs": [
        {
          "output_type": "stream",
          "name": "stdout",
          "text": [
            "[200 300 400 500 600]\n"
          ]
        }
      ]
    },
    {
      "cell_type": "code",
      "source": [
        "prices3_new = prices3 + 1000\n",
        "print(prices3_new)\n",
        "# prices3_new = prices3 * 1000 multipley all element by 1000\n",
        "# prices3_new = prices3 / 1000 divide all element by 1000\n",
        "# prices3_new = prices3 - 1000 subtract 1000 from all element\n"
      ],
      "metadata": {
        "colab": {
          "base_uri": "https://localhost:8080/"
        },
        "id": "ljVEEJB8xt9B",
        "outputId": "4e41f3c3-8cab-4f8b-aff0-e831162dcc0d"
      },
      "execution_count": 67,
      "outputs": [
        {
          "output_type": "stream",
          "name": "stdout",
          "text": [
            "[[[1010 1020 1030 1040 1050]\n",
            "  [1101 1200 1303 1040 1050]]\n",
            "\n",
            " [[1010 1020 1030 1040 1050]\n",
            "  [1101 1200 1303 1040 1050]]]\n"
          ]
        }
      ]
    }
  ]
}
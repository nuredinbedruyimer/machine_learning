{
  "nbformat": 4,
  "nbformat_minor": 0,
  "metadata": {
    "colab": {
      "provenance": [],
      "authorship_tag": "ABX9TyOyrBuJ4fj7sQgwRO/elp14",
      "include_colab_link": true
    },
    "kernelspec": {
      "name": "python3",
      "display_name": "Python 3"
    },
    "language_info": {
      "name": "python"
    }
  },
  "cells": [
    {
      "cell_type": "markdown",
      "metadata": {
        "id": "view-in-github",
        "colab_type": "text"
      },
      "source": [
        "<a href=\"https://colab.research.google.com/github/nuredinbedruyimer/machine_learning/blob/main/numpy_multi_dim_array_indexing.ipynb\" target=\"_parent\"><img src=\"https://colab.research.google.com/assets/colab-badge.svg\" alt=\"Open In Colab\"/></a>"
      ]
    },
    {
      "cell_type": "code",
      "source": [
        "import numpy as np"
      ],
      "metadata": {
        "id": "0VcJjo6mdo37"
      },
      "execution_count": 2,
      "outputs": []
    },
    {
      "cell_type": "code",
      "source": [
        "#  Create 3 x 3 array or mat\n",
        "arr = np.random.randint(20,54, size = (3,3))\n",
        "\n",
        "#  accessing Single element\n",
        "print(\"Element At SomeSpesfic Row And Col :\" ,arr[1][2])\n",
        "\n"
      ],
      "metadata": {
        "colab": {
          "base_uri": "https://localhost:8080/"
        },
        "id": "-goWfRg3ovB-",
        "outputId": "ad629369-b4c6-44cc-ea97-f6441dc55a26"
      },
      "execution_count": 44,
      "outputs": [
        {
          "output_type": "stream",
          "name": "stdout",
          "text": [
            "[[27 35 31]\n",
            " [25 37 37]\n",
            " [20 46 38]]\n"
          ]
        },
        {
          "output_type": "execute_result",
          "data": {
            "text/plain": [
              "37"
            ]
          },
          "metadata": {},
          "execution_count": 44
        }
      ]
    },
    {
      "cell_type": "code",
      "source": [
        "#  Accessing All Element In Given Row\n",
        "\n",
        "print(\"All Elemet In Some Given Row :\",arr[1])\n",
        "\n",
        "#  Accessing MultipleRow UsingSlicing On Row\n",
        "print(\"All Elemet In Multiple Rows :\", arr[:2])"
      ],
      "metadata": {
        "colab": {
          "base_uri": "https://localhost:8080/"
        },
        "id": "u4lBYDszpyux",
        "outputId": "6c101a62-372a-4744-c4de-7f5d1da841a9"
      },
      "execution_count": 48,
      "outputs": [
        {
          "output_type": "stream",
          "name": "stdout",
          "text": [
            "All Elemet In Some Given Row : [25 37 37]\n",
            "All Elemet In Multiple Rows : [[27 35 31]\n",
            " [25 37 37]]\n"
          ]
        }
      ]
    },
    {
      "cell_type": "code",
      "source": [
        "# AccessAllElement In some Column\n",
        "print(\"All Element In Somespec Col : \",arr[:,1])\n",
        "\n",
        "#  Accessing MultipleColumns\n",
        "print(\"All Element In Multiple Columns : \",arr[:,[0,2]])"
      ],
      "metadata": {
        "colab": {
          "base_uri": "https://localhost:8080/"
        },
        "id": "ijWRH1ITqf14",
        "outputId": "6af868cc-51ff-4596-d3d3-798043689250"
      },
      "execution_count": 54,
      "outputs": [
        {
          "output_type": "stream",
          "name": "stdout",
          "text": [
            "All Element In Somespec Col :  [35 37 46]\n",
            "All Element In Multiple Columns :  [[27 31]\n",
            " [25 37]\n",
            " [20 38]]\n"
          ]
        }
      ]
    }
  ]
}
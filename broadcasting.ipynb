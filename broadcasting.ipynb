{
  "nbformat": 4,
  "nbformat_minor": 0,
  "metadata": {
    "colab": {
      "provenance": [],
      "authorship_tag": "ABX9TyMNFnFrwNypg4SuomDUaEPW",
      "include_colab_link": true
    },
    "kernelspec": {
      "name": "python3",
      "display_name": "Python 3"
    },
    "language_info": {
      "name": "python"
    }
  },
  "cells": [
    {
      "cell_type": "markdown",
      "metadata": {
        "id": "view-in-github",
        "colab_type": "text"
      },
      "source": [
        "<a href=\"https://colab.research.google.com/github/nuredinbedruyimer/machine_learning/blob/main/broadcasting.ipynb\" target=\"_parent\"><img src=\"https://colab.research.google.com/assets/colab-badge.svg\" alt=\"Open In Colab\"/></a>"
      ]
    },
    {
      "cell_type": "code",
      "execution_count": 1,
      "metadata": {
        "id": "If3Wq9TkroUu"
      },
      "outputs": [],
      "source": [
        "import numpy as np"
      ]
    },
    {
      "cell_type": "markdown",
      "source": [
        "1, **Align Shapes From the Right**: When comparing two arrays for compatibility to do some opration, align their shapes from the right (i.e., compare starting from the last axis)\n",
        "\n",
        "2, **Two Dimensions are Compatible If *they are equal* or one of them is 1**"
      ],
      "metadata": {
        "id": "GJwZD7zKsCTx"
      }
    },
    {
      "cell_type": "code",
      "source": [
        "#  Scalar and 1D array at this point  the scalar shap append by one two match to the larger shape and become (1, ) and the given other\n",
        "#  array let say A = (n, )  B = ()-> (1, ) then do  the opration\n",
        "\n",
        "A = np.array([1, 2, 4, 5,6])\n",
        "B = 5\n",
        "print(A + B)\n",
        "#  Behind the scene B = [5] and then this one element expand again to become same with the larger size and become B = [5, 5,5, 5,5]\n",
        "#  then the above opt become opration on the   A = [1, 2, 4, 5, 6] and B = [5, 5, 5, 5, 5] and do the opration"
      ],
      "metadata": {
        "colab": {
          "base_uri": "https://localhost:8080/"
        },
        "id": "D__m4EIYs9I8",
        "outputId": "f381e2ed-d469-41b8-fdef-b133a0488f6e"
      },
      "execution_count": 3,
      "outputs": [
        {
          "output_type": "stream",
          "name": "stdout",
          "text": [
            "[ 6  7  9 10 11]\n"
          ]
        }
      ]
    },
    {
      "cell_type": "markdown",
      "source": [
        "\n",
        "\n",
        "- 1D and 1D(array) with the same shape\n",
        "\n"
      ],
      "metadata": {
        "id": "fmHYm3JKvDPO"
      }
    },
    {
      "cell_type": "code",
      "source": [
        "# If the shape of the arrays is same we can do the opration with out any modification\n",
        "A = np.array([1, 2, 4, 5])\n",
        "B = np.array([10, 20, 30, 40])\n",
        "print(A + B)"
      ],
      "metadata": {
        "colab": {
          "base_uri": "https://localhost:8080/"
        },
        "id": "D-9L1FMfvCV5",
        "outputId": "2788c83c-0d14-437f-c016-f3e918f88da1"
      },
      "execution_count": 4,
      "outputs": [
        {
          "output_type": "stream",
          "name": "stdout",
          "text": [
            "[11 22 34 45]\n"
          ]
        }
      ]
    },
    {
      "cell_type": "markdown",
      "source": [
        "- 1D and 2D"
      ],
      "metadata": {
        "id": "dgnnwNb6wUFN"
      }
    },
    {
      "cell_type": "code",
      "source": [
        "A = np.array([1, 2, 4])\n",
        "B = np.array([[4], [5], [6]])\n",
        "A + B\n",
        "\n",
        "# Behind the scene due to broad cast the two array become\n",
        "#  A = [[1, 2, 4]] first after this point it also append this value again and  again to use for all value in the secon\n",
        "#  A  = [[1, 2, 4], [1, 2, 4], [1, 2, 4]]\n",
        "#  A  = [[4, 4, 4], [5, 5, 5], [6, 6, 6]]\n",
        "#  R = [[5, 6, 8], [6, 7, 9], [7, 8, 10]]\n"
      ],
      "metadata": {
        "colab": {
          "base_uri": "https://localhost:8080/"
        },
        "id": "g4Y9ChO0wSyb",
        "outputId": "1f38b8f6-5cc3-4f75-91d2-3fb2be840423"
      },
      "execution_count": 5,
      "outputs": [
        {
          "output_type": "execute_result",
          "data": {
            "text/plain": [
              "array([[ 5,  6,  8],\n",
              "       [ 6,  7,  9],\n",
              "       [ 7,  8, 10]])"
            ]
          },
          "metadata": {},
          "execution_count": 5
        }
      ]
    },
    {
      "cell_type": "code",
      "source": [
        "#  shap of A =  (1, 3)\n",
        "A = np.array([[1, 2, 3]])\n",
        "#  shape of B = (2, 1)\n",
        "B = np.array([[4], [5]])\n",
        "#  Bxehind The scene due to the broadcast the above opt is possible\n",
        "#  A = [[1, 2, 3], [1, 2, 3]]\n",
        "#  B = [[4, 4, 4], [5, 5, 5]]\n",
        "#  R = [[5, 6, 7], [6, 7, 8]]\n",
        "A + B"
      ],
      "metadata": {
        "colab": {
          "base_uri": "https://localhost:8080/"
        },
        "id": "G_ur9t4Pym1W",
        "outputId": "87ebcd70-a222-4157-8e82-fc6cc4ffe9fe"
      },
      "execution_count": 6,
      "outputs": [
        {
          "output_type": "execute_result",
          "data": {
            "text/plain": [
              "array([[5, 6, 7],\n",
              "       [6, 7, 8]])"
            ]
          },
          "metadata": {},
          "execution_count": 6
        }
      ]
    },
    {
      "cell_type": "code",
      "source": [
        "A = 10                      # Shape: ()\n",
        "B = np.array([[[1, 2, 3]]]) # Shape: (1, 1, 3)\n",
        "#  When we compare the shape start from the make the scala to (1, ) means = A = [10]\n",
        "#  then compare the shap start from the left (1, ) and (1, 1, 3) --> it have the ast most one is one and due to the broadcast the shap of A become\n",
        "#  (1, 1, 1) == [[[1]]] and add the same value untill we get the sme shape A = [[[10, 10, 10]]]\n",
        "#  Behind the scene the array movment\n",
        "#  A = [[[10, 10, 10]]]\n",
        "#  B = [[[1, 2, 3]]]\n",
        "#  R = [[[11, 12, 13]]]\n",
        "result = A +  B\n",
        "print(result)"
      ],
      "metadata": {
        "colab": {
          "base_uri": "https://localhost:8080/"
        },
        "id": "XeIZQWVxz1t5",
        "outputId": "8fb8723a-dd75-4edf-a128-069ad6f21772"
      },
      "execution_count": 8,
      "outputs": [
        {
          "output_type": "stream",
          "name": "stdout",
          "text": [
            "[[[11 12 13]]]\n"
          ]
        }
      ]
    },
    {
      "cell_type": "code",
      "source": [
        "A = np.array([1, 2, 3])          # Shape: (3,)\n",
        "B = np.array([[[4]], [[5]]])     # Shape: (2, 1, 1)\n",
        "\n",
        "#  behind the scene A shape appended by 1 until it have same shape with other A shape become = (1, 1, 3)\n",
        "#  comapare (1, 1, 3) and (2, 1, 1) when we compare the dim from the last one is 1 then we can do the opt using boadcating\n",
        "#  A = [[[1, 2, 3]], [[1, 2, 3]]]\n",
        "#  B = [[[4, 4, 4]], [[5, 5, 5]]]\n",
        "\n",
        "result = A + B\n",
        "print(result)"
      ],
      "metadata": {
        "colab": {
          "base_uri": "https://localhost:8080/"
        },
        "id": "hvMjXMax1OCK",
        "outputId": "debdf42f-647f-4e90-d562-d30a4a1e43c6"
      },
      "execution_count": 9,
      "outputs": [
        {
          "output_type": "stream",
          "name": "stdout",
          "text": [
            "[[[5 6 7]]\n",
            "\n",
            " [[6 7 8]]]\n"
          ]
        }
      ]
    }
  ]
}
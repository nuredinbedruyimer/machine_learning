{
  "nbformat": 4,
  "nbformat_minor": 0,
  "metadata": {
    "colab": {
      "provenance": [],
      "toc_visible": true,
      "authorship_tag": "ABX9TyPx4O8Pi9cMLGJUELXqPrLJ",
      "include_colab_link": true
    },
    "kernelspec": {
      "name": "python3",
      "display_name": "Python 3"
    },
    "language_info": {
      "name": "python"
    }
  },
  "cells": [
    {
      "cell_type": "markdown",
      "metadata": {
        "id": "view-in-github",
        "colab_type": "text"
      },
      "source": [
        "<a href=\"https://colab.research.google.com/github/nuredinbedruyimer/machine_learning/blob/main/numpy.ipynb\" target=\"_parent\"><img src=\"https://colab.research.google.com/assets/colab-badge.svg\" alt=\"Open In Colab\"/></a>"
      ]
    },
    {
      "cell_type": "markdown",
      "source": [
        "- Using Normal Python List To Least All Prices of The Year In Seconds Interal and\n",
        "It Take About **7.852016448974609** seconds"
      ],
      "metadata": {
        "id": "FVbxtT7-mDJ2"
      }
    },
    {
      "cell_type": "code",
      "execution_count": null,
      "metadata": {
        "colab": {
          "base_uri": "https://localhost:8080/"
        },
        "id": "Ke1gaz9ejkYb",
        "outputId": "94296c0b-a318-48b0-904e-bc911846c1e8"
      },
      "outputs": [
        {
          "output_type": "stream",
          "name": "stdout",
          "text": [
            "31536000\n",
            "[100.0, 100.01, 100.02, 100.03, 100.04, 100.05, 100.06, 100.07, 100.08, 100.09]\n",
            "Time Taken :  7.796318769454956\n"
          ]
        }
      ],
      "source": [
        "import time\n",
        "\n",
        "start_time = time.time()\n",
        "\n",
        "prices = []\n",
        "\n",
        "N = 60 * 60 * 24*365\n",
        "\n",
        "print(N)\n",
        "\n",
        "for second in range(N):\n",
        "  prices.append(100 + second/ 100)\n",
        "\n",
        "print(prices[:10])\n",
        "\n",
        "end_time = time.time()\n",
        "\n",
        "print(\"Time Taken : \", end_time - start_time)\n"
      ]
    },
    {
      "cell_type": "markdown",
      "source": [
        "- Calculate The Avarage Price of The Year Using Normal List Take More Than 4 secons"
      ],
      "metadata": {
        "id": "I12jJ56KpCxX"
      }
    },
    {
      "cell_type": "code",
      "source": [
        "avarage = 0\n",
        "start_time = time.time()\n",
        "\n",
        "\n",
        "\n",
        "for price in prices:\n",
        "  avarage += price / N\n",
        "\n",
        "end_time = time.time()\n",
        "\n",
        "\n",
        "\n",
        "print(\"Avarage Price Of The Year Become : \", avarage)\n",
        "print(\"Avarage Price Of The Year Take : \", end_time-start_time)\n"
      ],
      "metadata": {
        "colab": {
          "base_uri": "https://localhost:8080/"
        },
        "id": "YwdKH1_NnoYW",
        "outputId": "aadee4fb-dae5-4c6c-8271-a81864a3cfd9"
      },
      "execution_count": null,
      "outputs": [
        {
          "output_type": "stream",
          "name": "stdout",
          "text": [
            "Avarage Price Of The Year Become :  157779.995\n",
            "Avarage Price Of The Year Take :  4.684968709945679\n"
          ]
        }
      ]
    },
    {
      "cell_type": "code",
      "source": [
        "import numpy as np"
      ],
      "metadata": {
        "id": "G-Jc6C-hpCZn"
      },
      "execution_count": null,
      "outputs": []
    },
    {
      "cell_type": "markdown",
      "source": [
        "- Doing The List Of Prices For The Year Is Realy Fast In Numpy"
      ],
      "metadata": {
        "id": "O0dvpb7rqowo"
      }
    },
    {
      "cell_type": "code",
      "source": [
        "start_time = time.time()\n",
        "prices = 100 + np.arange(N) / 100\n",
        "print(prices[:10])\n",
        "end_time = time.time()\n",
        "print(\"Time Taken By Numpy To List All Prices : \", end_time - start_time)"
      ],
      "metadata": {
        "colab": {
          "base_uri": "https://localhost:8080/"
        },
        "id": "KpNy0wsopYT2",
        "outputId": "ddf32b4e-1db0-4e9b-d010-9057ec748b2c"
      },
      "execution_count": null,
      "outputs": [
        {
          "output_type": "stream",
          "name": "stdout",
          "text": [
            "[100.   100.01 100.02 100.03 100.04 100.05 100.06 100.07 100.08 100.09]\n",
            "Time Taken By Numpy To List All Prices :  0.2569618225097656\n"
          ]
        }
      ]
    },
    {
      "cell_type": "code",
      "source": [
        "start_time = time.time()\n",
        "avarage = prices.mean()\n",
        "print(\"Avarage Of 1 Year Prices : \", avarage)\n",
        "end_time = time.time()\n",
        "print(\"Time Taken : \", end_time - start_time)"
      ],
      "metadata": {
        "colab": {
          "base_uri": "https://localhost:8080/"
        },
        "id": "n2fuoYdkq0T4",
        "outputId": "fc3aceef-b832-4cfb-9821-f6a36f69b85c"
      },
      "execution_count": null,
      "outputs": [
        {
          "output_type": "stream",
          "name": "stdout",
          "text": [
            "Avarage Of 1 Year Prices :  157779.995\n",
            "Time Taken :  0.026510953903198242\n"
          ]
        }
      ]
    },
    {
      "cell_type": "markdown",
      "source": [
        "- We can Create Numpy Array From Every List Of Object in python set, tuple and list"
      ],
      "metadata": {
        "id": "SIXqbXeFwT5v"
      }
    },
    {
      "cell_type": "code",
      "source": [
        "py_list = [1, 2, 3, 4, 5]\n",
        "\n",
        "py_set = set(py_list)\n",
        "\n",
        "py_tuple = (1, 2, 3, 4,5)\n",
        "\n",
        "arr = np.array(py_set)\n",
        "arr"
      ],
      "metadata": {
        "colab": {
          "base_uri": "https://localhost:8080/"
        },
        "id": "ixvRpRdauvwg",
        "outputId": "716b45d5-03e4-41fd-96ae-9194f35d2282"
      },
      "execution_count": null,
      "outputs": [
        {
          "output_type": "execute_result",
          "data": {
            "text/plain": [
              "array({1, 2, 3, 4, 5}, dtype=object)"
            ]
          },
          "metadata": {},
          "execution_count": 27
        }
      ]
    },
    {
      "cell_type": "code",
      "source": [
        "arr = np.array([\n",
        "    [2, 1, 3, 4],\n",
        "    [2, 3, 4, 5],\n",
        "    [2, 3, 10, 5],\n",
        "\n",
        "])\n",
        "\n",
        "length = len(arr)\n",
        "print(\"Length : \", length)\n",
        "element_count = np.size(arr)\n",
        "print(\"Total Element Count : \", element_count)\n",
        "arr_shape = np.shape(arr)\n",
        "\n",
        "print(\"Arr Shape : \", arr_shape)\n",
        "\n",
        "\n",
        "\n",
        "\n"
      ],
      "metadata": {
        "colab": {
          "base_uri": "https://localhost:8080/"
        },
        "id": "2wWchd5Sx8ux",
        "outputId": "ffb3bd53-1804-4b48-b58d-53a3730a19af"
      },
      "execution_count": null,
      "outputs": [
        {
          "output_type": "stream",
          "name": "stdout",
          "text": [
            "Length :  3\n",
            "Total Element Count :  12\n",
            "Arr Shape :  (3, 4)\n"
          ]
        }
      ]
    },
    {
      "cell_type": "code",
      "source": [
        "\n",
        "arr = np.array([1, 2, 3, 4, 5])\n",
        "length = len(arr)\n",
        "print(\"Length : \", length)\n",
        "element_count = np.size(arr)\n",
        "print(\"Total Element Count : \", element_count)\n",
        "arr_shape = np.shape(arr)\n",
        "\n",
        "print(\"Arr Shape : \", arr_shape)\n",
        "\n",
        "arr = np.array([1])\n",
        "print(arr)\n"
      ],
      "metadata": {
        "colab": {
          "base_uri": "https://localhost:8080/"
        },
        "id": "XjsQWOldzO0B",
        "outputId": "cbaec051-55d3-463e-9314-1b1f5711002d"
      },
      "execution_count": null,
      "outputs": [
        {
          "output_type": "stream",
          "name": "stdout",
          "text": [
            "Length :  5\n",
            "Total Element Count :  5\n",
            "Arr Shape :  (5,)\n",
            "[1]\n"
          ]
        }
      ]
    },
    {
      "cell_type": "code",
      "source": [
        "orginal_arr = np.array([1, 2, 3, 4, 5])\n",
        "\n",
        "np_arr = np.array(orginal_arr, copy=False )\n",
        "np_arr [-1] = 100\n",
        "\n",
        "print(np_arr)\n",
        "print(orginal_arr)\n"
      ],
      "metadata": {
        "colab": {
          "base_uri": "https://localhost:8080/"
        },
        "id": "0qgKmACu1r91",
        "outputId": "6f07cbb4-fc82-4b8c-8062-b964cc1be4cb"
      },
      "execution_count": null,
      "outputs": [
        {
          "output_type": "stream",
          "name": "stdout",
          "text": [
            "[  1   2   3   4 100]\n",
            "[  1   2   3   4 100]\n"
          ]
        }
      ]
    },
    {
      "cell_type": "markdown",
      "source": [
        "- Diffenet Dimension Array In Numpy"
      ],
      "metadata": {
        "id": "lsC7nR7Y5C-G"
      }
    },
    {
      "cell_type": "code",
      "source": [
        "# 0D\n",
        "zero_dim = np.array(1)\n",
        "print(\"Size : \", np.size(zero_dim))\n",
        "print(\"Shape : \", np.shape(zero_dim))\n",
        "print(\"Dimensions : \", zero_dim.ndim)\n",
        "# 1D\n",
        "one_dim = np.array([1, 2, 3, 4, 5])\n",
        "print(\"Size : \", np.size(one_dim))\n",
        "print(\"Shape : \", np.shape(one_dim))\n",
        "print(\"Dimensions : \", one_dim.ndim)\n",
        "\n",
        "\n",
        "#  2D\n",
        "two_dim = np.array([\n",
        "    [1, 2, 3, 4, 5],\n",
        "    [10, 4, 3, 4, 5],\n",
        "    [17, 2, 39, 42, 5]\n",
        "])\n",
        "print(\"Size : \", np.size(two_dim))\n",
        "print(\"Shape : \", np.shape(two_dim))\n",
        "print(\"Dimensions : \", two_dim.ndim)\n",
        "\n",
        "#  3D\n",
        "three_dim = np.array([\n",
        "    [\n",
        "    [1, 2, 3, 4, 5],\n",
        "    [10, 4, 3, 4, 5],\n",
        "    [17, 2, 39, 42, 5]\n",
        "], [\n",
        "    [10, 20, 30, 40, 5],\n",
        "    [10, 4, 23, 24, 5],\n",
        "    [17, 2, 39, 42, 5]\n",
        "]\n",
        "])\n",
        "print(\"Size : \", np.size(three_dim))\n",
        "print(\"Shape : \", np.shape(three_dim))\n",
        "print(\"Dimensions : \", three_dim.ndim)\n",
        "\n"
      ],
      "metadata": {
        "colab": {
          "base_uri": "https://localhost:8080/"
        },
        "id": "QaCTER8u5BzP",
        "outputId": "253b38fd-22db-43cf-ef68-d9ea0b43dca6"
      },
      "execution_count": null,
      "outputs": [
        {
          "output_type": "stream",
          "name": "stdout",
          "text": [
            "Size :  1\n",
            "Shape :  ()\n",
            "Dimensions :  0\n",
            "Size :  5\n",
            "Shape :  (5,)\n",
            "Dimensions :  1\n",
            "Size :  15\n",
            "Shape :  (3, 5)\n",
            "Dimensions :  2\n",
            "Size :  30\n",
            "Shape :  (2, 3, 5)\n",
            "Dimensions :  3\n"
          ]
        }
      ]
    },
    {
      "cell_type": "markdown",
      "source": [
        "- Fill Same Values With Numpy Functions"
      ],
      "metadata": {
        "id": "_KwI2DZU8hQk"
      }
    },
    {
      "cell_type": "code",
      "source": [
        "#  Fill All Value with zeros with give shape\n",
        "#  Example Of 1D fill with string, number and float , boolean\n",
        "ages = np.full(fill_value=20, shape=3)\n",
        "print(ages)\n",
        "names = np.full(fill_value=\"Monkey D Luffy\", shape=3)\n",
        "names\n",
        "print(names)\n",
        "registrations_fags = np.full(fill_value=True, shape=3)\n",
        "print(registrations_fags)\n",
        "\n",
        "\n",
        "ages = np.full(fill_value=20, shape=(3, 2,3))\n",
        "print(ages)\n",
        "names = np.full(fill_value=\"Monkey D Luffy\", shape=(3, 2,3))\n",
        "names\n",
        "print(names)\n",
        "registrations_fags = np.full(fill_value=True, shape=(3, 2,3))\n",
        "print(registrations_fags)\n",
        "\n",
        "\n"
      ],
      "metadata": {
        "colab": {
          "base_uri": "https://localhost:8080/"
        },
        "id": "BKbGp6dt8fvi",
        "outputId": "128bc76a-3396-4cef-f93a-0f2004017b33"
      },
      "execution_count": null,
      "outputs": [
        {
          "output_type": "stream",
          "name": "stdout",
          "text": [
            "[20 20 20]\n",
            "['Monkey D Luffy' 'Monkey D Luffy' 'Monkey D Luffy']\n",
            "[ True  True  True]\n",
            "[[[20 20 20]\n",
            "  [20 20 20]]\n",
            "\n",
            " [[20 20 20]\n",
            "  [20 20 20]]\n",
            "\n",
            " [[20 20 20]\n",
            "  [20 20 20]]]\n",
            "[[['Monkey D Luffy' 'Monkey D Luffy' 'Monkey D Luffy']\n",
            "  ['Monkey D Luffy' 'Monkey D Luffy' 'Monkey D Luffy']]\n",
            "\n",
            " [['Monkey D Luffy' 'Monkey D Luffy' 'Monkey D Luffy']\n",
            "  ['Monkey D Luffy' 'Monkey D Luffy' 'Monkey D Luffy']]\n",
            "\n",
            " [['Monkey D Luffy' 'Monkey D Luffy' 'Monkey D Luffy']\n",
            "  ['Monkey D Luffy' 'Monkey D Luffy' 'Monkey D Luffy']]]\n",
            "[[[ True  True  True]\n",
            "  [ True  True  True]]\n",
            "\n",
            " [[ True  True  True]\n",
            "  [ True  True  True]]\n",
            "\n",
            " [[ True  True  True]\n",
            "  [ True  True  True]]]\n"
          ]
        }
      ]
    },
    {
      "cell_type": "markdown",
      "source": [
        "- Create Series of Values and Random Value\n",
        "\n",
        "\n",
        "1.   numpy.arange([start, ]stop, [step, ]dtype=None, *, device=None, like=None): create List of Number with in the given range which  either infered from the default  or created maualy\n",
        "2.   random.randint(low, high=None, size=None, dtype=int) : used to create radome integer between low and high with **replacment**\n",
        "\n"
      ],
      "metadata": {
        "id": "qlCM_JI7_obN"
      }
    },
    {
      "cell_type": "code",
      "source": [
        "one_dim_series = np.arange(18)\n",
        "print(\"Generated Array : \", one_dim_series)\n",
        "\n",
        "evens = np.arange(0, 18, 2)\n",
        "print(\"evens : \", evens)\n",
        "\n",
        "\n",
        "#  radome values\n",
        "\n",
        "\n",
        "radoms_1d = np.random.randint(0, 5, size = 5)\n",
        "print(\"Random Values : \", radoms_1d)\n",
        "\n",
        "\n",
        "radoms_2d = np.random.randint(0, 5, size = (3, 6))\n",
        "print(\"Random Values : \", radoms_2d)\n",
        "\n",
        "\n",
        "radoms_3d = np.random.randint(0, 5, size = (2, 3, 3))\n",
        "print(\"Random Values : \", radoms_3d)"
      ],
      "metadata": {
        "colab": {
          "base_uri": "https://localhost:8080/"
        },
        "id": "nQ5Vq98Z_nx9",
        "outputId": "c1244508-d65d-4a0d-cd08-0e2b1097dca5"
      },
      "execution_count": null,
      "outputs": [
        {
          "output_type": "stream",
          "name": "stdout",
          "text": [
            "Generated Array :  [ 0  1  2  3  4  5  6  7  8  9 10 11 12 13 14 15 16 17]\n",
            "evens :  [ 0  2  4  6  8 10 12 14 16]\n",
            "Random Values :  [2 4 4 3 1]\n",
            "Random Values :  [[0 2 0 1 2 1]\n",
            " [4 2 2 1 4 1]\n",
            " [4 2 3 0 1 1]]\n",
            "Random Values :  [[[3 2 3]\n",
            "  [2 1 4]\n",
            "  [0 0 3]]\n",
            "\n",
            " [[0 3 1]\n",
            "  [0 1 0]\n",
            "  [4 1 0]]]\n"
          ]
        }
      ]
    },
    {
      "cell_type": "code",
      "source": [],
      "metadata": {
        "id": "LjmwmL3u_lhX"
      },
      "execution_count": null,
      "outputs": []
    }
  ]
}
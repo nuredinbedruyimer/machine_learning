{
  "nbformat": 4,
  "nbformat_minor": 0,
  "metadata": {
    "colab": {
      "provenance": [],
      "authorship_tag": "ABX9TyPtNRFOMAli77YKUsibdvBs",
      "include_colab_link": true
    },
    "kernelspec": {
      "name": "python3",
      "display_name": "Python 3"
    },
    "language_info": {
      "name": "python"
    }
  },
  "cells": [
    {
      "cell_type": "markdown",
      "metadata": {
        "id": "view-in-github",
        "colab_type": "text"
      },
      "source": [
        "<a href=\"https://colab.research.google.com/github/nuredinbedruyimer/machine_learning/blob/practice_problems/empty_full_in_numpy.ipynb\" target=\"_parent\"><img src=\"https://colab.research.google.com/assets/colab-badge.svg\" alt=\"Open In Colab\"/></a>"
      ]
    },
    {
      "cell_type": "code",
      "execution_count": null,
      "metadata": {
        "id": "BC2fByaOdLzq"
      },
      "outputs": [],
      "source": [
        "import numpy as np"
      ]
    },
    {
      "cell_type": "markdown",
      "source": [
        "# How to create an empty and a full NumPy array?"
      ],
      "metadata": {
        "id": "Yfptzq921rXm"
      }
    },
    {
      "cell_type": "code",
      "source": [
        "#  The aboove problem asked about how can we create empty and full Numpy array\n",
        "#  the structure of the the empty method is np.empty(shape, data_type)\n",
        "#  It contain garbage value\n",
        "\n",
        "# empty_arr = np.empty((3))\n",
        "# empty_arr = np.empty((3, 3))\n",
        "empty_arr = np.empty((3, 3, 1))\n",
        "\n",
        "\n",
        "empty_arr"
      ],
      "metadata": {
        "colab": {
          "base_uri": "https://localhost:8080/"
        },
        "id": "QdQuqtLU1qYC",
        "outputId": "dad31034-861b-452d-a613-1569cbd24aef"
      },
      "execution_count": 26,
      "outputs": [
        {
          "output_type": "execute_result",
          "data": {
            "text/plain": [
              "array([[[95427113564561],\n",
              "        [             0],\n",
              "        [             0]],\n",
              "\n",
              "       [[             0],\n",
              "        [             0],\n",
              "        [             0]],\n",
              "\n",
              "       [[             0],\n",
              "        [             0],\n",
              "        [             0]]])"
            ]
          },
          "metadata": {},
          "execution_count": 26
        }
      ]
    },
    {
      "cell_type": "code",
      "source": [
        "#  We can add data type\n",
        "# empty_arr = np.empty((3, 4), dtype=bool)\n",
        "empty_arr = np.empty((3, 4), dtype=int)\n",
        "empty_arr"
      ],
      "metadata": {
        "colab": {
          "base_uri": "https://localhost:8080/"
        },
        "id": "sdJxS6PD3Kbr",
        "outputId": "0ea9f0b2-0363-4db2-f0e5-08973154daca"
      },
      "execution_count": 29,
      "outputs": [
        {
          "output_type": "execute_result",
          "data": {
            "text/plain": [
              "array([[95427111963714,              0,              0,              0],\n",
              "       [             0,              0,              0,              0],\n",
              "       [             0,              0,              0,              0]])"
            ]
          },
          "metadata": {},
          "execution_count": 29
        }
      ]
    },
    {
      "cell_type": "code",
      "source": [
        "#  we can use full method of numpy to create arr with value of fill_value\n",
        "\n",
        "full_arr = np.full(shape = (3, 3), fill_value=20)\n",
        "full_true = np.full(shape=(4, 4), fill_value=True)\n",
        "full_true"
      ],
      "metadata": {
        "colab": {
          "base_uri": "https://localhost:8080/"
        },
        "id": "4-oVzKpb3oAL",
        "outputId": "015561e2-188e-4f9e-fbb3-81338c487211"
      },
      "execution_count": 38,
      "outputs": [
        {
          "output_type": "execute_result",
          "data": {
            "text/plain": [
              "array([[ True,  True,  True,  True],\n",
              "       [ True,  True,  True,  True],\n",
              "       [ True,  True,  True,  True],\n",
              "       [ True,  True,  True,  True]])"
            ]
          },
          "metadata": {},
          "execution_count": 38
        }
      ]
    }
  ]
}
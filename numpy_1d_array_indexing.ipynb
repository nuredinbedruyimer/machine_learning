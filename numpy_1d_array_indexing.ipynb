{
  "nbformat": 4,
  "nbformat_minor": 0,
  "metadata": {
    "colab": {
      "provenance": [],
      "authorship_tag": "ABX9TyNQiR7QS5FfuiJEMWFcMddo",
      "include_colab_link": true
    },
    "kernelspec": {
      "name": "python3",
      "display_name": "Python 3"
    },
    "language_info": {
      "name": "python"
    }
  },
  "cells": [
    {
      "cell_type": "markdown",
      "metadata": {
        "id": "view-in-github",
        "colab_type": "text"
      },
      "source": [
        "<a href=\"https://colab.research.google.com/github/nuredinbedruyimer/machine_learning/blob/main/numpy_1d_array_indexing.ipynb\" target=\"_parent\"><img src=\"https://colab.research.google.com/assets/colab-badge.svg\" alt=\"Open In Colab\"/></a>"
      ]
    },
    {
      "cell_type": "code",
      "source": [
        "import numpy as np"
      ],
      "metadata": {
        "id": "0VcJjo6mdo37"
      },
      "execution_count": 2,
      "outputs": []
    },
    {
      "cell_type": "code",
      "execution_count": 4,
      "metadata": {
        "colab": {
          "base_uri": "https://localhost:8080/"
        },
        "id": "Bh1RqCElb1pu",
        "outputId": "80979b4f-f4d0-45c5-b1cb-5396bc6e5e4e"
      },
      "outputs": [
        {
          "output_type": "execute_result",
          "data": {
            "text/plain": [
              "array(['Monkey D Luffy', 'Uzumaki Naruto', 'Midoriya Uziki',\n",
              "       'Ronana Zoro', 'Viksmoke Sanji', 'Usoop'], dtype='<U14')"
            ]
          },
          "metadata": {},
          "execution_count": 4
        }
      ],
      "source": [
        "prices = np.array([20.3, 26.4, 43.4, 56.4, 54.4, 88.5])\n",
        "names = np.array([\"Monkey D Luffy\", \"Uzumaki Naruto\", \"Midoriya Uziki\", \"Ronana Zoro\", \"Viksmoke Sanji\", \"Usoop\"])\n"
      ]
    },
    {
      "cell_type": "markdown",
      "source": [
        "- Accessing 1D numpy Array Using Index\n",
        "\n",
        "\n",
        "1.   If we Access Element By Considering Index Start From Left 0, 1 ... N - 1\n",
        "     where N is the length of the array\n",
        "2.   if we acces Element By Consider Element Index Start From The right or last we start from -1 -2 ..... -N\n",
        "   where N is Length Of\n",
        "\n"
      ],
      "metadata": {
        "id": "iF8C2FyneZBJ"
      }
    },
    {
      "cell_type": "code",
      "source": [
        "\n",
        "prices[-1] = 2 * prices[-1]\n",
        "\n",
        "for index in range(0, len(prices)):\n",
        "  print(\"curr_index : \", index)\n",
        "  print('Before Doubling :', prices[index])\n",
        "  prices[index] = 2 * prices[index]\n",
        "  print('after Doubling :', prices[index])\n",
        "\n"
      ],
      "metadata": {
        "colab": {
          "base_uri": "https://localhost:8080/"
        },
        "id": "gSFOd9cceX9e",
        "outputId": "8cdab4b0-2428-405c-b231-82fac9d801ac"
      },
      "execution_count": 37,
      "outputs": [
        {
          "output_type": "stream",
          "name": "stdout",
          "text": [
            "curr_index :  0\n",
            "Before Doubling : 162.4\n",
            "after Doubling : 324.8\n",
            "curr_index :  1\n",
            "Before Doubling : 211.2\n",
            "after Doubling : 422.4\n",
            "curr_index :  2\n",
            "Before Doubling : 347.2\n",
            "after Doubling : 694.4\n",
            "curr_index :  3\n",
            "Before Doubling : 451.2\n",
            "after Doubling : 902.4\n",
            "curr_index :  4\n",
            "Before Doubling : 435.2\n",
            "after Doubling : 870.4\n",
            "curr_index :  5\n",
            "Before Doubling : 22656.0\n",
            "after Doubling : 45312.0\n"
          ]
        }
      ]
    },
    {
      "cell_type": "code",
      "source": [
        "names[2] = \"Nuredin Bedru\"\n",
        "names[1] = \"Hafiz Hussein\"\n",
        "names[-1] = \"Hayder Muhdin\"\n",
        "\n",
        "for index in range(len(names)):\n",
        "  print(names[index])"
      ],
      "metadata": {
        "colab": {
          "base_uri": "https://localhost:8080/"
        },
        "id": "_ZWpspiXghie",
        "outputId": "ba78b652-fa17-430b-9674-08393594bdd8"
      },
      "execution_count": 27,
      "outputs": [
        {
          "output_type": "stream",
          "name": "stdout",
          "text": [
            "Monkey D Luffy\n",
            "Hafiz Hussein\n",
            "Nuredin Bedru\n",
            "Abenezer Adugn\n",
            "Biruk Tassew\n",
            "Hayder Muhdin\n"
          ]
        }
      ]
    },
    {
      "cell_type": "code",
      "source": [
        "print(names[[1,3,4]])\n",
        "\n",
        "names[[1,3,4]] =  \"Nuredin Bedru\",\"Abenezer Adugna\",\"Biruk Tassew\"\n",
        "\n",
        "print(names[[-1,-2,-3]])\n"
      ],
      "metadata": {
        "colab": {
          "base_uri": "https://localhost:8080/"
        },
        "id": "OWq8rh7OhBEW",
        "outputId": "9f8b8a78-bcbf-44d7-8d99-24199436bd49"
      },
      "execution_count": 26,
      "outputs": [
        {
          "output_type": "stream",
          "name": "stdout",
          "text": [
            "['Nuredin Bedru' 'Nuredin Bedru' 'Nuredin Bedru']\n",
            "['Hayder Muhdin' 'Biruk Tassew' 'Abenezer Adugn']\n"
          ]
        }
      ]
    },
    {
      "cell_type": "markdown",
      "source": [
        "- Slicing Of Arra Using [start: end: steps]  end is not inclusive"
      ],
      "metadata": {
        "id": "y_WHVinTiBjL"
      }
    },
    {
      "cell_type": "code",
      "source": [
        "first_three_names= names[:3]\n",
        "# first_three_names=names[-6:-3:1]\n",
        "# first_three_names=names[:-3]\n",
        "# first_three_names= names[0:3]\n",
        "# first_three_names= names[0:3:1]\n",
        "#\n",
        "# all the above same thing and also do the samealso in other way\n",
        "print(first_three_names)\n"
      ],
      "metadata": {
        "colab": {
          "base_uri": "https://localhost:8080/"
        },
        "id": "I5b5zVWniApe",
        "outputId": "fa7d7fcb-6371-401b-b883-6eb139eef958"
      },
      "execution_count": 35,
      "outputs": [
        {
          "output_type": "stream",
          "name": "stdout",
          "text": [
            "['Monkey D Luffy' 'Hafiz Hussein' 'Nuredin Bedru']\n"
          ]
        }
      ]
    },
    {
      "cell_type": "code",
      "source": [
        "last_three_prices = prices[-3:]\n",
        "# last_three_prices= prices[len(prices) - 3:]\n",
        "#  andother ways alsoexist\n",
        "print(last_three_prices)"
      ],
      "metadata": {
        "colab": {
          "base_uri": "https://localhost:8080/"
        },
        "id": "pYlUSkFcjuZp",
        "outputId": "5df8feff-63a7-406e-a794-45491617a401"
      },
      "execution_count": 41,
      "outputs": [
        {
          "output_type": "stream",
          "name": "stdout",
          "text": [
            "[  902.4   870.4 45312. ]\n"
          ]
        }
      ]
    }
  ]
}